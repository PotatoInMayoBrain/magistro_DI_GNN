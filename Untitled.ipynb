{
 "cells": [
  {
   "cell_type": "code",
   "execution_count": 2,
   "id": "4c9f4458",
   "metadata": {},
   "outputs": [],
   "source": [
    "from pymatgen import core\n",
    "import numpy as np\n",
    "import sys\n",
    "import nglview as nv\n",
    "from pymatgen.transformations.standard_transformations import OrderDisorderedStructureTransformation\n",
    "from pymatgen.transformations.standard_transformations import PartialRemoveSpecieTransformation\n",
    "from pymatgen.io.cif import CifParser\n",
    "from scipy.spatial.distance import cdist\n",
    "import pandas as pd"
   ]
  },
  {
   "cell_type": "code",
   "execution_count": 4,
   "id": "6737b57a",
   "metadata": {},
   "outputs": [
    {
     "data": {
      "application/vnd.jupyter.widget-view+json": {
       "model_id": "02d0ed6a2be44f91a3fb98fe59084f9d",
       "version_major": 2,
       "version_minor": 0
      },
      "text/plain": [
       "NGLWidget()"
      ]
     },
     "metadata": {},
     "output_type": "display_data"
    }
   ],
   "source": [
    "# Create the transformation\n",
    "transformation = PartialRemoveSpecieTransformation(\"Li\", 0.5)\n",
    "\n",
    "#input = sys.argv[1]\n",
    "#output = sys.argv[2]\n",
    "input = \"data/4303837.cif\"\n",
    "# Load the structure from the CIF file\n",
    "structure = core.Structure.from_file(input)\n",
    "try:\n",
    "    view = nv.show_pymatgen(structure)\n",
    "except(ValueError):\n",
    "    ordered_structure = transformation.apply_transformation(structure)\n",
    "    view = nv.show_pymatgen(ordered_structure)\n",
    "\n",
    "view "
   ]
  },
  {
   "cell_type": "code",
   "execution_count": 5,
   "id": "f84c3447",
   "metadata": {},
   "outputs": [
    {
     "name": "stderr",
     "output_type": "stream",
     "text": [
      "/home/muzikantas/miniconda3/envs/test/lib/python3.11/site-packages/pymatgen/io/cif.py:1191: UserWarning: The default value of primitive was changed from True to False in https://github.com/materialsproject/pymatgen/pull/3419. CifParser now returns the cell in the CIF file as is. If you want the primitive cell, please set primitive=True explicitly.\n",
      "  warnings.warn(\n"
     ]
    },
    {
     "name": "stdout",
     "output_type": "stream",
     "text": [
      "Lattice parameters:  (8.2491, 11.596999999999998, 13.2764)\n",
      "Lattice angles:  (72.051, 83.389, 78.197)\n",
      "Species:  [Element Co, Element Co, Element H, Element H, Element H, Element H, Element H, Element H, Element H, Element H, Element H, Element H, Element H, Element H, Element H, Element H, Element H, Element H, Element H, Element H, Element H, Element H, Element H, Element H, Element H, Element H, Element H, Element H, Element H, Element H, Element H, Element H, Element H, Element H, Element H, Element H, Element H, Element H, Element H, Element H, Element H, Element H, Element H, Element H, Element H, Element H, Element H, Element H, Element H, Element H, Element H, Element H, Element H, Element H, Element H, Element H, Element H, Element H, Element H, Element H, Element H, Element H, Element C, Element C, Element C, Element C, Element C, Element C, Element C, Element C, Element C, Element C, Element C, Element C, Element C, Element C, Element C, Element C, Element C, Element C, Element C, Element C, Element C, Element C, Element C, Element C, Element C, Element C, Element C, Element C, Element C, Element C, Element C, Element C, Element C, Element C, Element C, Element C, Element C, Element C, Element C, Element C, Element C, Element C, Element C, Element C, Element C, Element C, Element C, Element C, Element C, Element C, Element C, Element C, Element I, Element I, Element N, Element N]\n",
      "Coordinates:  [[[ 0.          0.          0.        ]\n",
      "  [-0.12427627  0.42837603 -0.89501362]\n",
      "  [-0.5975      0.35296234  0.72000787]\n",
      "  ...\n",
      "  [-0.59893932 -0.21280671 -0.77200065]\n",
      "  [ 0.7593119  -0.64134557 -0.11009676]\n",
      "  [-0.4335211   0.62005543 -0.65390421]]\n",
      "\n",
      " [[ 0.12427627 -0.42837603  0.89501362]\n",
      "  [ 0.          0.          0.        ]\n",
      "  [-0.34954704  0.03145749  0.93639057]\n",
      "  ...\n",
      "  [-0.42968076 -0.79002345  0.43730697]\n",
      "  [ 0.4335211  -0.62005543  0.65390421]\n",
      "  [-0.7593119   0.64134557  0.11009676]]\n",
      "\n",
      " [[ 0.5975     -0.35296234 -0.72000787]\n",
      "  [ 0.34954704 -0.03145749 -0.93639057]\n",
      "  [ 0.          0.          0.        ]\n",
      "  ...\n",
      "  [ 0.22334282 -0.37165914 -0.90110347]\n",
      "  [ 0.67841608 -0.45921664 -0.57347336]\n",
      "  [ 0.1492696   0.1581692  -0.97606408]]\n",
      "\n",
      " ...\n",
      "\n",
      " [[ 0.59893932  0.21280671  0.77200065]\n",
      "  [ 0.42968076  0.79002345 -0.43730697]\n",
      "  [-0.22334282  0.37165914  0.90110347]\n",
      "  ...\n",
      "  [ 0.          0.          0.        ]\n",
      "  [ 0.84628112 -0.19837862  0.49442308]\n",
      "  [-0.11062349  0.95784948 -0.2651166 ]]\n",
      "\n",
      " [[-0.7593119   0.64134557  0.11009676]\n",
      "  [-0.4335211   0.62005543 -0.65390421]\n",
      "  [-0.67841608  0.45921664  0.57347336]\n",
      "  ...\n",
      "  [-0.84628112  0.19837862 -0.49442308]\n",
      "  [ 0.          0.          0.        ]\n",
      "  [-0.57752151  0.67834805 -0.45421673]]\n",
      "\n",
      " [[ 0.4335211  -0.62005543  0.65390421]\n",
      "  [ 0.7593119  -0.64134557 -0.11009676]\n",
      "  [-0.1492696  -0.1581692   0.97606408]\n",
      "  ...\n",
      "  [ 0.11062349 -0.95784948  0.2651166 ]\n",
      "  [ 0.57752151 -0.67834805  0.45421673]\n",
      "  [ 0.          0.          0.        ]]]\n"
     ]
    },
    {
     "name": "stderr",
     "output_type": "stream",
     "text": [
      "/tmp/ipykernel_6333/1701259582.py:13: RuntimeWarning: invalid value encountered in divide\n",
      "  direction_cosines = differences / distances[:, :, None]\n"
     ]
    }
   ],
   "source": [
    "# Parse the CIF file\n",
    "parser = CifParser(\"data/4303837.cif\")\n",
    "\n",
    "# Get the first structure from the CIF file\n",
    "structure = parser.parse_structures()[0]\n",
    "\n",
    "# Extract data\n",
    "lattice = structure.lattice\n",
    "species = structure.species\n",
    "coordinates = structure.cart_coords\n",
    "distances = cdist(coordinates, coordinates)\n",
    "differences = coordinates[:, None, :] - coordinates[None, :, :]\n",
    "direction_cosines = differences / distances[:, :, None]\n",
    "direction_cosines = np.nan_to_num(direction_cosines)\n",
    "\n",
    "# Print some data\n",
    "print(\"Lattice parameters: \", lattice.abc)\n",
    "print(\"Lattice angles: \", lattice.angles)\n",
    "print(\"Species: \", species)\n",
    "print(\"Coordinates: \", direction_cosines)"
   ]
  },
  {
   "cell_type": "code",
   "execution_count": null,
   "id": "0d62e318",
   "metadata": {},
   "outputs": [],
   "source": [
    "import sys\n",
    "import pandas as pd\n",
    "from pymatgen.io.cif import CifParser\n",
    "from scipy.spatial.distance import cdist\n",
    "import numpy as np\n",
    "\n",
    "# Get the CIF file name from the command line arguments\n",
    "cif_file = sys.argv[1]\n",
    "\n",
    "# Parse the CIF file\n",
    "parser = CifParser(cif_file)\n",
    "\n",
    "# Get the first structure from the CIF file\n",
    "structure = parser.get_structures()[0]\n",
    "\n",
    "# Extract data\n",
    "lattice = structure.lattice\n",
    "species = [str(s) for s in structure.species]\n",
    "coordinates = structure.cart_coords\n",
    "distances = cdist(coordinates, coordinates)\n",
    "differences = coordinates[:, None, :] - coordinates[None, :, :]\n",
    "direction_cosines = differences / distances[:, :, None]\n",
    "direction_cosines = np.nan_to_num(direction_cosines)\n",
    "\n",
    "# Flatten the direction cosines array and convert it to a list\n",
    "direction_cosines = direction_cosines.flatten().tolist()\n",
    "\n",
    "# Create a DataFrame\n",
    "df = pd.DataFrame({\n",
    "    'lattice_a': [lattice.a],\n",
    "    'lattice_b': [lattice.b],\n",
    "    'lattice_c': [lattice.c],\n",
    "    'lattice_alpha': [lattice.alpha],\n",
    "    'lattice_beta': [lattice.beta],\n",
    "    'lattice_gamma': [lattice.gamma],\n",
    "    'species': [species],\n",
    "    'direction_cosines': [direction_cosines],\n",
    "})\n",
    "\n",
    "# Write the DataFrame to a CSV file\n",
    "# Replace 'output.csv' with the desired output file name\n",
    "df.to_csv('output.csv', index=False)"
   ]
  }
 ],
 "metadata": {
  "kernelspec": {
   "display_name": "test",
   "language": "python",
   "name": "test"
  },
  "language_info": {
   "codemirror_mode": {
    "name": "ipython",
    "version": 3
   },
   "file_extension": ".py",
   "mimetype": "text/x-python",
   "name": "python",
   "nbconvert_exporter": "python",
   "pygments_lexer": "ipython3",
   "version": "3.11.7"
  }
 },
 "nbformat": 4,
 "nbformat_minor": 5
}
