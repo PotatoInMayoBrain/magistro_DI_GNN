{
 "cells": [
  {
   "cell_type": "code",
   "execution_count": 1,
   "id": "4c9f4458",
   "metadata": {},
   "outputs": [
    {
     "name": "stderr",
     "output_type": "stream",
     "text": [
      "C:\\Users\\Muzikantas\\AppData\\Local\\Temp\\ipykernel_52304\\1025980874.py:12: TqdmExperimentalWarning: Using `tqdm.autonotebook.tqdm` in notebook mode. Use `tqdm.tqdm` instead to force console mode (e.g. in jupyter console)\n",
      "  from tqdm.autonotebook import tqdm\n"
     ]
    }
   ],
   "source": [
    "from pymatgen import core\n",
    "import numpy as np\n",
    "import sys\n",
    "from pymatgen.transformations.standard_transformations import OrderDisorderedStructureTransformation\n",
    "from pymatgen.transformations.standard_transformations import PartialRemoveSpecieTransformation\n",
    "from pymatgen.io.cif import CifParser\n",
    "from scipy.spatial.distance import cdist\n",
    "import pandas as pd\n",
    "import matplotlib.pyplot as plt\n",
    "import os\n",
    "import scipy\n",
    "from tqdm.autonotebook import tqdm"
   ]
  },
  {
   "cell_type": "code",
   "execution_count": 2,
   "id": "304614b3",
   "metadata": {},
   "outputs": [],
   "source": [
    "import pandas as pd\n",
    "df = pd.read_csv('output_core_test.csv')"
   ]
  },
  {
   "cell_type": "code",
   "execution_count": null,
   "id": "957cc3c1",
   "metadata": {},
   "outputs": [],
   "source": [
    "grouped = df.groupby('sg_number')['codid'].count()\n",
    "\n",
    "# Plot the distribution\n",
    "plt.figure(figsize=(10,6))\n",
    "grouped.plot(kind='bar')\n",
    "plt.title('Distribution of codid between different space group numbers')\n",
    "plt.xlabel('Space Group Number')\n",
    "plt.ylabel('Count of codid')\n",
    "plt.ylim(0, 25)\n",
    "plt.show()"
   ]
  },
  {
   "cell_type": "code",
   "execution_count": null,
   "id": "6864feca",
   "metadata": {},
   "outputs": [],
   "source": [
    "df.head()"
   ]
  },
  {
   "cell_type": "code",
   "execution_count": null,
   "id": "de6adcbf",
   "metadata": {},
   "outputs": [],
   "source": [
    "df['atom_counts']"
   ]
  },
  {
   "cell_type": "code",
   "execution_count": null,
   "id": "0d62e318",
   "metadata": {},
   "outputs": [],
   "source": [
    "# Define the mapping dictionary\n",
    "bravais_lattice_mapping = {\n",
    "    range(1, 3): 'Triclinic',\n",
    "    range(3, 16): 'Monoclinic',\n",
    "    range(16, 75): 'Orthorhombic',\n",
    "    range(75, 143): 'Tetragonal',\n",
    "    range(143, 168): 'Trigonal',\n",
    "    range(168, 195): 'Hexagonal',\n",
    "    range(195, 231): 'Cubic'\n",
    "}\n",
    "\n",
    "# Function to map space group number to Bravais lattice\n",
    "def map_to_bravais(sg_number):\n",
    "    for key in bravais_lattice_mapping:\n",
    "        if sg_number in key:\n",
    "            return bravais_lattice_mapping[key]\n",
    "    return 'Unknown'\n",
    "\n",
    "#add new column to df\n",
    "\n",
    "# Apply the mapping to the 'sg_number' column\n",
    "df['sg_bravais'] = df['sg_number'].apply(map_to_bravais)\n",
    "\n",
    "# Now 'sg_number' column contains Bravais lattices instead of space group numbers"
   ]
  },
  {
   "cell_type": "code",
   "execution_count": null,
   "id": "02672acb",
   "metadata": {},
   "outputs": [],
   "source": [
    "grouped_bravais = df.groupby('sg_bravais')['codid'].count()\n",
    "\n",
    "# Plot the distribution\n",
    "plt.figure(figsize=(10,6))\n",
    "grouped_bravais.plot(kind='bar')\n",
    "plt.title('Distribution of codid between different space group numbers')\n",
    "plt.xlabel('Space Group Number')\n",
    "plt.ylabel('Count of codid')\n",
    "plt.ylim()\n",
    "plt.show()"
   ]
  },
  {
   "cell_type": "code",
   "execution_count": null,
   "id": "1c3e1750",
   "metadata": {},
   "outputs": [],
   "source": [
    "df.head()"
   ]
  },
  {
   "cell_type": "code",
   "execution_count": null,
   "id": "67a7c9d2",
   "metadata": {},
   "outputs": [],
   "source": [
    "import pandas as pd\n",
    "import h5py\n",
    "from sklearn.preprocessing import MinMaxScaler, OneHotEncoder\n",
    "\n",
    "# Define the mapping dictionary\n",
    "bravais_lattice_mapping = {\n",
    "    range(1, 3): 'Triclinic',\n",
    "    range(3, 16): 'Monoclinic',\n",
    "    range(16, 75): 'Orthorhombic',\n",
    "    range(75, 143): 'Tetragonal',\n",
    "    range(143, 168): 'Trigonal',\n",
    "    range(168, 195): 'Hexagonal',\n",
    "    range(195, 231): 'Cubic'\n",
    "}\n",
    "\n",
    "# Function to map space group number to Bravais lattice\n",
    "def map_to_bravais(sg_number):\n",
    "\n",
    "    for key in bravais_lattice_mapping:\n",
    "        if sg_number in key:\n",
    "            return bravais_lattice_mapping[key]\n",
    "        \n",
    "    return 'Unknown'\n",
    "\n",
    "def preprocess_dataframe(csv_file):\n",
    "\n",
    "    dataframe = pd.read_csv(csv_file)\n",
    "    dataframe['sg_bravais'] = dataframe['sg_number'].apply(map_to_bravais)\n",
    "    dataframe = dataframe.drop(['reduced_formula', 'sg_symbol'], axis = 1)\n",
    "\n",
    "    for angle in [\n",
    "            'lattice_angle_alpha', \\\n",
    "            'lattice_angle_beta', \\\n",
    "            'lattice_angle_gamma'\n",
    "            ]:\n",
    "        dataframe[angle + '_sin'] = np.sin(np.deg2rad(dataframe[angle]))\n",
    "        dataframe[angle + '_cos'] = np.cos(np.deg2rad(dataframe[angle]))\n",
    "        dataframe = dataframe.drop(angle, axis = 1)\n",
    "\n",
    "    return dataframe\n",
    "\n",
    "def one_hot_encode_bravais(dataframe):\n",
    "\n",
    "    one_hot = pd.get_dummies(dataframe['sg_bravais'])\n",
    "    dataframe = dataframe.drop('sg_bravais',axis = 1)\n",
    "    dataframe = dataframe.join(one_hot)\n",
    "\n",
    "    return dataframe\n",
    "\n",
    "def normalize_dataframe(dataframe):\n",
    "\n",
    "    scaler = MinMaxScaler()\n",
    "    columns_to_normalize = dataframe.columns.difference(['codid'])\n",
    "    dataframe[columns_to_normalize] = scaler.fit_transform(dataframe[columns_to_normalize])\n",
    "\n",
    "    return dataframe\n",
    "\n",
    "def normalize_hdf5(hdf5_file):\n",
    "\n",
    "    scaler = MinMaxScaler()\n",
    "\n",
    "    with h5py.File(hdf5_file, 'r') as f:\n",
    "        # Create a new hdf5 file\n",
    "        new_hdf5_file = hdf5_file.replace('.hdf5', '_normalized.hdf5')\n",
    "\n",
    "        with h5py.File(new_hdf5_file, 'w') as g:\n",
    "            for key in tqdm(f.keys()):\n",
    "                \n",
    "                #Atliekame artumo matricos normalizvimą tarp 0 ir 1\n",
    "                data = f[key][:]\n",
    "                data = scaler.fit_transform(data)\n",
    "                \n",
    "                #Tikriname ar matrica yra kvadratinė, jei taip, nukerpame viską po istrižaine\n",
    "                if data.ndim == 2 and data.shape[0] == data.shape[1]:\n",
    "                    #sukuriame numpy kaukę, kur visi elementai virš istrižainės yra 1, o po ja 0\n",
    "                    mask = np.triu(np.ones(data.shape), k=0).astype(bool)\n",
    "                    #Sudauginus matricą su kauke, visi elementai po istrižaine tampa 0\n",
    "                    data[~mask] = 0\n",
    "                \n",
    "                #Įrašome duomenis į naują hdf5 failą\n",
    "                g.create_dataset(key, data=data)\n",
    "\n",
    "    return new_hdf5_file"
   ]
  },
  {
   "cell_type": "code",
   "execution_count": null,
   "id": "843fabe4",
   "metadata": {},
   "outputs": [],
   "source": [
    "df_temp = preprocess_dataframe('output.csv')\n",
    "df_temp = one_hot_encode_bravais(df_temp)\n",
    "df_temp = normalize_dataframe(df_temp)"
   ]
  },
  {
   "cell_type": "code",
   "execution_count": null,
   "id": "6c39b542",
   "metadata": {},
   "outputs": [],
   "source": [
    "df_temp.head()"
   ]
  },
  {
   "cell_type": "code",
   "execution_count": null,
   "id": "1ad53cd3",
   "metadata": {},
   "outputs": [],
   "source": [
    "class Preprocessor:\n",
    "    def __init__(self, csv_file, hdf5_file):\n",
    "        self.csv_file = csv_file\n",
    "        self.hdf5_file_path = hdf5_file\n",
    "\n",
    "    def preprocess(self):\n",
    "        self.dataframe = preprocess_dataframe(self.csv_file)\n",
    "        self.dataframe = one_hot_encode_bravais(self.dataframe)\n",
    "        self.dataframe = normalize_dataframe(self.dataframe)\n",
    "        \n",
    "        normalized_hdf5_file_path = self.hdf5_file_path.replace('.hdf5', '_normalized.hdf5')\n",
    "        if not os.path.exists(normalized_hdf5_file_path):\n",
    "            self.hdf5_file = normalize_hdf5(self.hdf5_file_path)\n",
    "        else:\n",
    "            self.hdf5_file = h5py.File(normalized_hdf5_file_path, 'r')\n",
    "        \n",
    "        return self.dataframe, self.hdf5_file"
   ]
  },
  {
   "cell_type": "code",
   "execution_count": null,
   "id": "157791e9",
   "metadata": {},
   "outputs": [],
   "source": [
    "import h5py\n",
    "import pandas as pd\n",
    "import torch\n",
    "from torch.utils.data import Dataset\n",
    "\n",
    "class CustomDataset(Dataset):\n",
    "    def __init__(self, csv_file, hdf5_file):\n",
    "        preprocessor = Preprocessor(csv_file, hdf5_file)\n",
    "        self.dataframe, self.hdf5_file = preprocessor.preprocess()\n",
    "        self.dataframe.head()\n",
    "\n",
    "    def __len__(self):\n",
    "        return len(self.dataframe)\n",
    "\n",
    "    def __getitem__(self, idx):\n",
    "        if torch.is_tensor(idx):\n",
    "            idx = idx.tolist()\n",
    "\n",
    "        # Get the 'codid' for the current index\n",
    "        codid = self.dataframe.iloc[idx]['codid']\n",
    "\n",
    "        # Convert codid to string for accessing the hdf5 file\n",
    "        codid = str(int(codid))\n",
    "\n",
    "        # Get the adjacency matrix for the current 'codid'\n",
    "        adjacency_matrix = torch.from_numpy(self.hdf5_file['/' + codid][:])\n",
    "\n",
    "        # Get the features for the current index, excluding 'bravais lattices'\n",
    "        bravais_lattices = ['Triclinic', 'Monoclinic', 'Orthorhombic', \\\n",
    "                            'Tetragonal', 'Trigonal', 'Hexagonal', 'Cubic'\n",
    "                            ]\n",
    "\n",
    "        features = self.dataframe.drop(columns=bravais_lattices).iloc[idx].values\n",
    "        features = torch.from_numpy(features)\n",
    "\n",
    "        # Get the one-hot encoded 'sg_bravais' for the current index\n",
    "        labels = self.dataframe[bravais_lattices].iloc[idx].values\n",
    "        labels = torch.from_numpy(labels)\n",
    "\n",
    "        return adjacency_matrix, features, labels, codid"
   ]
  },
  {
   "cell_type": "code",
   "execution_count": null,
   "id": "df06ec02",
   "metadata": {},
   "outputs": [],
   "source": [
    "dataset = CustomDataset('output_core.csv','output_aux.hdf5')\n",
    "print(dataset[1])"
   ]
  },
  {
   "cell_type": "code",
   "execution_count": null,
   "id": "134fe2e1",
   "metadata": {},
   "outputs": [],
   "source": []
  }
 ],
 "metadata": {
  "kernelspec": {
   "display_name": "test",
   "language": "python",
   "name": "python3"
  },
  "language_info": {
   "codemirror_mode": {
    "name": "ipython",
    "version": 3
   },
   "file_extension": ".py",
   "mimetype": "text/x-python",
   "name": "python",
   "nbconvert_exporter": "python",
   "pygments_lexer": "ipython3",
   "version": "3.11.7"
  }
 },
 "nbformat": 4,
 "nbformat_minor": 5
}
