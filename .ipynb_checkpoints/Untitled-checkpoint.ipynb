{
 "cells": [
  {
   "cell_type": "code",
   "execution_count": 1,
   "id": "4c9f4458",
   "metadata": {},
   "outputs": [
    {
     "data": {
      "application/vnd.jupyter.widget-view+json": {
       "model_id": "389205121d6c4a8f9be46da99d7b2c09",
       "version_major": 2,
       "version_minor": 0
      },
      "text/plain": []
     },
     "metadata": {},
     "output_type": "display_data"
    }
   ],
   "source": [
    "from pymatgen import core\n",
    "import numpy as np\n",
    "import sys\n",
    "import nglview as nv\n",
    "from pymatgen.transformations.standard_transformations import OrderDisorderedStructureTransformation\n",
    "from pymatgen.transformations.standard_transformations import PartialRemoveSpecieTransformation\n",
    "from pymatgen.io.cif import CifParser\n",
    "from scipy.spatial.distance import cdist\n",
    "import pandas as pd"
   ]
  },
  {
   "cell_type": "code",
   "execution_count": 2,
   "id": "6737b57a",
   "metadata": {},
   "outputs": [
    {
     "name": "stderr",
     "output_type": "stream",
     "text": [
      "/home/muzikantas/miniconda3/envs/test/lib/python3.11/site-packages/pymatgen/io/cif.py:1134: UserWarning: Missing elements H from PMG structure composition\n",
      "  warnings.warn(cif_failure_reason)\n",
      "/home/muzikantas/miniconda3/envs/test/lib/python3.11/site-packages/pymatgen/io/cif.py:1224: UserWarning: Issues encountered while parsing CIF: Structure has implicit hydrogens defined, parsed structure unlikely to be suitable for use in calculations unless hydrogens added.\n",
      "  warnings.warn(\"Issues encountered while parsing CIF: \" + \"\\n\".join(self.warnings))\n"
     ]
    },
    {
     "ename": "ValueError",
     "evalue": "Ewald summation can only be performed on structures that are either oxidation state decorated or have site charges.",
     "output_type": "error",
     "traceback": [
      "\u001b[0;31m---------------------------------------------------------------------------\u001b[0m",
      "\u001b[0;31mValueError\u001b[0m                                Traceback (most recent call last)",
      "Cell \u001b[0;32mIn[2], line 10\u001b[0m\n\u001b[1;32m      9\u001b[0m \u001b[38;5;28;01mtry\u001b[39;00m:\n\u001b[0;32m---> 10\u001b[0m     view \u001b[38;5;241m=\u001b[39m \u001b[43mnv\u001b[49m\u001b[38;5;241;43m.\u001b[39;49m\u001b[43mshow_pymatgen\u001b[49m\u001b[43m(\u001b[49m\u001b[43mstructure\u001b[49m\u001b[43m)\u001b[49m\n\u001b[1;32m     11\u001b[0m \u001b[38;5;28;01mexcept\u001b[39;00m(\u001b[38;5;167;01mValueError\u001b[39;00m):\n",
      "File \u001b[0;32m~/miniconda3/envs/test/lib/python3.11/site-packages/nglview/show.py:157\u001b[0m, in \u001b[0;36mshow_pymatgen\u001b[0;34m(struct, **kwargs)\u001b[0m\n\u001b[1;32m    156\u001b[0m \u001b[38;5;28;01mfrom\u001b[39;00m \u001b[38;5;21;01mpymatgen\u001b[39;00m\u001b[38;5;21;01m.\u001b[39;00m\u001b[38;5;21;01mio\u001b[39;00m\u001b[38;5;21;01m.\u001b[39;00m\u001b[38;5;21;01mase\u001b[39;00m \u001b[38;5;28;01mimport\u001b[39;00m AseAtomsAdaptor\n\u001b[0;32m--> 157\u001b[0m \u001b[38;5;28;01mreturn\u001b[39;00m show_ase(\u001b[43mAseAtomsAdaptor\u001b[49m\u001b[43m(\u001b[49m\u001b[43m)\u001b[49m\u001b[38;5;241;43m.\u001b[39;49m\u001b[43mget_atoms\u001b[49m\u001b[43m(\u001b[49m\u001b[43mstruct\u001b[49m\u001b[43m)\u001b[49m)\n",
      "File \u001b[0;32m~/miniconda3/envs/test/lib/python3.11/site-packages/pymatgen/io/ase.py:61\u001b[0m, in \u001b[0;36mAseAtomsAdaptor.get_atoms\u001b[0;34m(structure, **kwargs)\u001b[0m\n\u001b[1;32m     60\u001b[0m \u001b[38;5;28;01mif\u001b[39;00m \u001b[38;5;129;01mnot\u001b[39;00m structure\u001b[38;5;241m.\u001b[39mis_ordered:\n\u001b[0;32m---> 61\u001b[0m     \u001b[38;5;28;01mraise\u001b[39;00m \u001b[38;5;167;01mValueError\u001b[39;00m(\u001b[38;5;124m\"\u001b[39m\u001b[38;5;124mASE Atoms only supports ordered structures\u001b[39m\u001b[38;5;124m\"\u001b[39m)\n\u001b[1;32m     63\u001b[0m \u001b[38;5;66;03m# Construct the base ASE Atoms object\u001b[39;00m\n",
      "\u001b[0;31mValueError\u001b[0m: ASE Atoms only supports ordered structures",
      "\nDuring handling of the above exception, another exception occurred:\n",
      "\u001b[0;31mAttributeError\u001b[0m                            Traceback (most recent call last)",
      "File \u001b[0;32m~/miniconda3/envs/test/lib/python3.11/site-packages/pymatgen/analysis/ewald.py:734\u001b[0m, in \u001b[0;36mcompute_average_oxidation_state\u001b[0;34m(site)\u001b[0m\n\u001b[1;32m    733\u001b[0m \u001b[38;5;28;01mtry\u001b[39;00m:\n\u001b[0;32m--> 734\u001b[0m     \u001b[38;5;28;01mreturn\u001b[39;00m \u001b[43msite\u001b[49m\u001b[38;5;241;43m.\u001b[39;49m\u001b[43mcharge\u001b[49m\n\u001b[1;32m    735\u001b[0m \u001b[38;5;28;01mexcept\u001b[39;00m \u001b[38;5;167;01mAttributeError\u001b[39;00m:\n",
      "File \u001b[0;32m~/miniconda3/envs/test/lib/python3.11/site-packages/pymatgen/core/sites.py:79\u001b[0m, in \u001b[0;36mSite.__getattr__\u001b[0;34m(self, attr)\u001b[0m\n\u001b[1;32m     78\u001b[0m     \u001b[38;5;28;01mreturn\u001b[39;00m props[attr]\n\u001b[0;32m---> 79\u001b[0m \u001b[38;5;28;01mraise\u001b[39;00m \u001b[38;5;167;01mAttributeError\u001b[39;00m(\u001b[38;5;124mf\u001b[39m\u001b[38;5;124m\"\u001b[39m\u001b[38;5;132;01m{\u001b[39;00mattr\u001b[38;5;132;01m=}\u001b[39;00m\u001b[38;5;124m not found on \u001b[39m\u001b[38;5;132;01m{\u001b[39;00m\u001b[38;5;28mtype\u001b[39m(\u001b[38;5;28mself\u001b[39m)\u001b[38;5;241m.\u001b[39m\u001b[38;5;18m__name__\u001b[39m\u001b[38;5;132;01m}\u001b[39;00m\u001b[38;5;124m\"\u001b[39m)\n",
      "\u001b[0;31mAttributeError\u001b[0m: attr='charge' not found on PeriodicSite",
      "\nDuring handling of the above exception, another exception occurred:\n",
      "\u001b[0;31mValueError\u001b[0m                                Traceback (most recent call last)",
      "Cell \u001b[0;32mIn[2], line 12\u001b[0m\n\u001b[1;32m     10\u001b[0m     view \u001b[38;5;241m=\u001b[39m nv\u001b[38;5;241m.\u001b[39mshow_pymatgen(structure)\n\u001b[1;32m     11\u001b[0m \u001b[38;5;28;01mexcept\u001b[39;00m(\u001b[38;5;167;01mValueError\u001b[39;00m):\n\u001b[0;32m---> 12\u001b[0m     ordered_structure \u001b[38;5;241m=\u001b[39m \u001b[43mtransformation\u001b[49m\u001b[38;5;241;43m.\u001b[39;49m\u001b[43mapply_transformation\u001b[49m\u001b[43m(\u001b[49m\u001b[43mstructure\u001b[49m\u001b[43m)\u001b[49m\n\u001b[1;32m     13\u001b[0m     view \u001b[38;5;241m=\u001b[39m nv\u001b[38;5;241m.\u001b[39mshow_pymatgen(ordered_structure)\n\u001b[1;32m     15\u001b[0m view \n",
      "File \u001b[0;32m~/miniconda3/envs/test/lib/python3.11/site-packages/pymatgen/transformations/standard_transformations.py:448\u001b[0m, in \u001b[0;36mPartialRemoveSpecieTransformation.apply_transformation\u001b[0;34m(self, structure, return_ranked_list)\u001b[0m\n\u001b[1;32m    446\u001b[0m specie_indices \u001b[38;5;241m=\u001b[39m [i \u001b[38;5;28;01mfor\u001b[39;00m i \u001b[38;5;129;01min\u001b[39;00m \u001b[38;5;28mrange\u001b[39m(\u001b[38;5;28mlen\u001b[39m(structure)) \u001b[38;5;28;01mif\u001b[39;00m structure[i]\u001b[38;5;241m.\u001b[39mspecies \u001b[38;5;241m==\u001b[39m Composition({sp: \u001b[38;5;241m1\u001b[39m})]\n\u001b[1;32m    447\u001b[0m trans \u001b[38;5;241m=\u001b[39m PartialRemoveSitesTransformation([specie_indices], [\u001b[38;5;28mself\u001b[39m\u001b[38;5;241m.\u001b[39mfraction_to_remove], algo\u001b[38;5;241m=\u001b[39m\u001b[38;5;28mself\u001b[39m\u001b[38;5;241m.\u001b[39malgo)\n\u001b[0;32m--> 448\u001b[0m \u001b[38;5;28;01mreturn\u001b[39;00m \u001b[43mtrans\u001b[49m\u001b[38;5;241;43m.\u001b[39;49m\u001b[43mapply_transformation\u001b[49m\u001b[43m(\u001b[49m\u001b[43mstructure\u001b[49m\u001b[43m,\u001b[49m\u001b[43m \u001b[49m\u001b[43mreturn_ranked_list\u001b[49m\u001b[43m)\u001b[49m\n",
      "File \u001b[0;32m~/miniconda3/envs/test/lib/python3.11/site-packages/pymatgen/transformations/site_transformations.py:478\u001b[0m, in \u001b[0;36mPartialRemoveSitesTransformation.apply_transformation\u001b[0;34m(self, structure, return_ranked_list)\u001b[0m\n\u001b[1;32m    475\u001b[0m \u001b[38;5;28mself\u001b[39m\u001b[38;5;241m.\u001b[39mlogger\u001b[38;5;241m.\u001b[39mdebug(\u001b[38;5;124mf\u001b[39m\u001b[38;5;124m\"\u001b[39m\u001b[38;5;124mWill return \u001b[39m\u001b[38;5;132;01m{\u001b[39;00mnum_to_return\u001b[38;5;132;01m}\u001b[39;00m\u001b[38;5;124m best structures.\u001b[39m\u001b[38;5;124m\"\u001b[39m)\n\u001b[1;32m    477\u001b[0m \u001b[38;5;28;01mif\u001b[39;00m \u001b[38;5;28mself\u001b[39m\u001b[38;5;241m.\u001b[39malgo \u001b[38;5;241m==\u001b[39m PartialRemoveSitesTransformation\u001b[38;5;241m.\u001b[39mALGO_FAST:\n\u001b[0;32m--> 478\u001b[0m     all_structures \u001b[38;5;241m=\u001b[39m \u001b[38;5;28;43mself\u001b[39;49m\u001b[38;5;241;43m.\u001b[39;49m\u001b[43m_fast_ordering\u001b[49m\u001b[43m(\u001b[49m\u001b[43mstructure\u001b[49m\u001b[43m,\u001b[49m\u001b[43m \u001b[49m\u001b[43mnum_remove_dict\u001b[49m\u001b[43m,\u001b[49m\u001b[43m \u001b[49m\u001b[43mnum_to_return\u001b[49m\u001b[43m)\u001b[49m\n\u001b[1;32m    479\u001b[0m \u001b[38;5;28;01melif\u001b[39;00m \u001b[38;5;28mself\u001b[39m\u001b[38;5;241m.\u001b[39malgo \u001b[38;5;241m==\u001b[39m PartialRemoveSitesTransformation\u001b[38;5;241m.\u001b[39mALGO_COMPLETE:\n\u001b[1;32m    480\u001b[0m     all_structures \u001b[38;5;241m=\u001b[39m \u001b[38;5;28mself\u001b[39m\u001b[38;5;241m.\u001b[39m_complete_ordering(structure, num_remove_dict)\n",
      "File \u001b[0;32m~/miniconda3/envs/test/lib/python3.11/site-packages/pymatgen/transformations/site_transformations.py:387\u001b[0m, in \u001b[0;36mPartialRemoveSitesTransformation._fast_ordering\u001b[0;34m(self, structure, num_remove_dict, num_to_return)\u001b[0m\n\u001b[1;32m    384\u001b[0m start_time \u001b[38;5;241m=\u001b[39m time\u001b[38;5;241m.\u001b[39mperf_counter()\n\u001b[1;32m    385\u001b[0m \u001b[38;5;28mself\u001b[39m\u001b[38;5;241m.\u001b[39mlogger\u001b[38;5;241m.\u001b[39mdebug(\u001b[38;5;124m\"\u001b[39m\u001b[38;5;124mPerforming initial Ewald sum...\u001b[39m\u001b[38;5;124m\"\u001b[39m)\n\u001b[0;32m--> 387\u001b[0m ewald_matrix \u001b[38;5;241m=\u001b[39m \u001b[43mEwaldSummation\u001b[49m\u001b[43m(\u001b[49m\u001b[43mstructure\u001b[49m\u001b[43m)\u001b[49m\u001b[38;5;241m.\u001b[39mtotal_energy_matrix\n\u001b[1;32m    388\u001b[0m \u001b[38;5;28mself\u001b[39m\u001b[38;5;241m.\u001b[39mlogger\u001b[38;5;241m.\u001b[39mdebug(\u001b[38;5;124mf\u001b[39m\u001b[38;5;124m\"\u001b[39m\u001b[38;5;124mEwald sum took \u001b[39m\u001b[38;5;132;01m{\u001b[39;00mtime\u001b[38;5;241m.\u001b[39mperf_counter()\u001b[38;5;250m \u001b[39m\u001b[38;5;241m-\u001b[39m\u001b[38;5;250m \u001b[39mstart_time\u001b[38;5;132;01m}\u001b[39;00m\u001b[38;5;124m seconds.\u001b[39m\u001b[38;5;124m\"\u001b[39m)\n\u001b[1;32m    389\u001b[0m start_time \u001b[38;5;241m=\u001b[39m time\u001b[38;5;241m.\u001b[39mperf_counter()\n",
      "File \u001b[0;32m~/miniconda3/envs/test/lib/python3.11/site-packages/pymatgen/analysis/ewald.py:116\u001b[0m, in \u001b[0;36mEwaldSummation.__init__\u001b[0;34m(self, structure, real_space_cut, recip_space_cut, eta, acc_factor, w, compute_forces)\u001b[0m\n\u001b[1;32m    111\u001b[0m \u001b[38;5;28mself\u001b[39m\u001b[38;5;241m.\u001b[39m_gmax \u001b[38;5;241m=\u001b[39m recip_space_cut \u001b[38;5;129;01mor\u001b[39;00m \u001b[38;5;241m2\u001b[39m \u001b[38;5;241m*\u001b[39m \u001b[38;5;28mself\u001b[39m\u001b[38;5;241m.\u001b[39m_sqrt_eta \u001b[38;5;241m*\u001b[39m \u001b[38;5;28mself\u001b[39m\u001b[38;5;241m.\u001b[39m_accf\n\u001b[1;32m    113\u001b[0m \u001b[38;5;66;03m# The next few lines pre-compute certain quantities and store them.\u001b[39;00m\n\u001b[1;32m    114\u001b[0m \u001b[38;5;66;03m# Ewald summation is rather expensive, and these shortcuts are\u001b[39;00m\n\u001b[1;32m    115\u001b[0m \u001b[38;5;66;03m# necessary to obtain several factors of improvement in speedup.\u001b[39;00m\n\u001b[0;32m--> 116\u001b[0m \u001b[38;5;28mself\u001b[39m\u001b[38;5;241m.\u001b[39m_oxi_states \u001b[38;5;241m=\u001b[39m \u001b[43m[\u001b[49m\u001b[43mcompute_average_oxidation_state\u001b[49m\u001b[43m(\u001b[49m\u001b[43msite\u001b[49m\u001b[43m)\u001b[49m\u001b[43m \u001b[49m\u001b[38;5;28;43;01mfor\u001b[39;49;00m\u001b[43m \u001b[49m\u001b[43msite\u001b[49m\u001b[43m \u001b[49m\u001b[38;5;129;43;01min\u001b[39;49;00m\u001b[43m \u001b[49m\u001b[43mstructure\u001b[49m\u001b[43m]\u001b[49m\n\u001b[1;32m    118\u001b[0m \u001b[38;5;28mself\u001b[39m\u001b[38;5;241m.\u001b[39m_coords \u001b[38;5;241m=\u001b[39m np\u001b[38;5;241m.\u001b[39marray(\u001b[38;5;28mself\u001b[39m\u001b[38;5;241m.\u001b[39m_struct\u001b[38;5;241m.\u001b[39mcart_coords)\n\u001b[1;32m    120\u001b[0m \u001b[38;5;66;03m# Define the private attributes to lazy compute reciprocal and real\u001b[39;00m\n\u001b[1;32m    121\u001b[0m \u001b[38;5;66;03m# space terms.\u001b[39;00m\n",
      "File \u001b[0;32m~/miniconda3/envs/test/lib/python3.11/site-packages/pymatgen/analysis/ewald.py:116\u001b[0m, in \u001b[0;36m<listcomp>\u001b[0;34m(.0)\u001b[0m\n\u001b[1;32m    111\u001b[0m \u001b[38;5;28mself\u001b[39m\u001b[38;5;241m.\u001b[39m_gmax \u001b[38;5;241m=\u001b[39m recip_space_cut \u001b[38;5;129;01mor\u001b[39;00m \u001b[38;5;241m2\u001b[39m \u001b[38;5;241m*\u001b[39m \u001b[38;5;28mself\u001b[39m\u001b[38;5;241m.\u001b[39m_sqrt_eta \u001b[38;5;241m*\u001b[39m \u001b[38;5;28mself\u001b[39m\u001b[38;5;241m.\u001b[39m_accf\n\u001b[1;32m    113\u001b[0m \u001b[38;5;66;03m# The next few lines pre-compute certain quantities and store them.\u001b[39;00m\n\u001b[1;32m    114\u001b[0m \u001b[38;5;66;03m# Ewald summation is rather expensive, and these shortcuts are\u001b[39;00m\n\u001b[1;32m    115\u001b[0m \u001b[38;5;66;03m# necessary to obtain several factors of improvement in speedup.\u001b[39;00m\n\u001b[0;32m--> 116\u001b[0m \u001b[38;5;28mself\u001b[39m\u001b[38;5;241m.\u001b[39m_oxi_states \u001b[38;5;241m=\u001b[39m [\u001b[43mcompute_average_oxidation_state\u001b[49m\u001b[43m(\u001b[49m\u001b[43msite\u001b[49m\u001b[43m)\u001b[49m \u001b[38;5;28;01mfor\u001b[39;00m site \u001b[38;5;129;01min\u001b[39;00m structure]\n\u001b[1;32m    118\u001b[0m \u001b[38;5;28mself\u001b[39m\u001b[38;5;241m.\u001b[39m_coords \u001b[38;5;241m=\u001b[39m np\u001b[38;5;241m.\u001b[39marray(\u001b[38;5;28mself\u001b[39m\u001b[38;5;241m.\u001b[39m_struct\u001b[38;5;241m.\u001b[39mcart_coords)\n\u001b[1;32m    120\u001b[0m \u001b[38;5;66;03m# Define the private attributes to lazy compute reciprocal and real\u001b[39;00m\n\u001b[1;32m    121\u001b[0m \u001b[38;5;66;03m# space terms.\u001b[39;00m\n",
      "File \u001b[0;32m~/miniconda3/envs/test/lib/python3.11/site-packages/pymatgen/analysis/ewald.py:736\u001b[0m, in \u001b[0;36mcompute_average_oxidation_state\u001b[0;34m(site)\u001b[0m\n\u001b[1;32m    734\u001b[0m     \u001b[38;5;28;01mreturn\u001b[39;00m site\u001b[38;5;241m.\u001b[39mcharge\n\u001b[1;32m    735\u001b[0m \u001b[38;5;28;01mexcept\u001b[39;00m \u001b[38;5;167;01mAttributeError\u001b[39;00m:\n\u001b[0;32m--> 736\u001b[0m     \u001b[38;5;28;01mraise\u001b[39;00m \u001b[38;5;167;01mValueError\u001b[39;00m(\n\u001b[1;32m    737\u001b[0m         \u001b[38;5;124m\"\u001b[39m\u001b[38;5;124mEwald summation can only be performed on structures \u001b[39m\u001b[38;5;124m\"\u001b[39m\n\u001b[1;32m    738\u001b[0m         \u001b[38;5;124m\"\u001b[39m\u001b[38;5;124mthat are either oxidation state decorated or have \u001b[39m\u001b[38;5;124m\"\u001b[39m\n\u001b[1;32m    739\u001b[0m         \u001b[38;5;124m\"\u001b[39m\u001b[38;5;124msite charges.\u001b[39m\u001b[38;5;124m\"\u001b[39m\n\u001b[1;32m    740\u001b[0m     )\n",
      "\u001b[0;31mValueError\u001b[0m: Ewald summation can only be performed on structures that are either oxidation state decorated or have site charges."
     ]
    }
   ],
   "source": [
    "# Create the transformation\n",
    "transformation = PartialRemoveSpecieTransformation(\"Li\", 0.5)\n",
    "\n",
    "#input = sys.argv[1]\n",
    "#output = sys.argv[2]\n",
    "input = \"data/4303837.cif\"\n",
    "# Load the structure from the CIF file\n",
    "structure = core.Structure.from_file(input)\n",
    "try:\n",
    "    view = nv.show_pymatgen(structure)\n",
    "except(ValueError):\n",
    "    ordered_structure = transformation.apply_transformation(structure)\n",
    "    view = nv.show_pymatgen(ordered_structure)\n",
    "\n",
    "view "
   ]
  },
  {
   "cell_type": "code",
   "execution_count": 7,
   "id": "f84c3447",
   "metadata": {},
   "outputs": [
    {
     "name": "stdout",
     "output_type": "stream",
     "text": [
      "Lattice parameters:  (8.2491, 11.596999999999998, 13.2764)\n",
      "Lattice angles:  (72.051, 83.389, 78.197)\n",
      "Species:  [Element Co, Element Co, Element H, Element H, Element H, Element H, Element H, Element H, Element H, Element H, Element H, Element H, Element H, Element H, Element H, Element H, Element H, Element H, Element H, Element H, Element H, Element H, Element H, Element H, Element H, Element H, Element H, Element H, Element H, Element H, Element H, Element H, Element H, Element H, Element H, Element H, Element H, Element H, Element H, Element H, Element H, Element H, Element H, Element H, Element H, Element H, Element H, Element H, Element H, Element H, Element H, Element H, Element H, Element H, Element H, Element H, Element H, Element H, Element H, Element H, Element H, Element H, Element C, Element C, Element C, Element C, Element C, Element C, Element C, Element C, Element C, Element C, Element C, Element C, Element C, Element C, Element C, Element C, Element C, Element C, Element C, Element C, Element C, Element C, Element C, Element C, Element C, Element C, Element C, Element C, Element C, Element C, Element C, Element C, Element C, Element C, Element C, Element C, Element C, Element C, Element C, Element C, Element C, Element C, Element C, Element C, Element C, Element C, Element C, Element C, Element C, Element C, Element C, Element C, Element I, Element I, Element N, Element N]\n",
      "Coordinates:  [[[ 0.          0.          0.        ]\n",
      "  [-0.12427627  0.42837603 -0.89501362]\n",
      "  [-0.5975      0.35296234  0.72000787]\n",
      "  ...\n",
      "  [-0.59893932 -0.21280671 -0.77200065]\n",
      "  [ 0.7593119  -0.64134557 -0.11009676]\n",
      "  [-0.4335211   0.62005543 -0.65390421]]\n",
      "\n",
      " [[ 0.12427627 -0.42837603  0.89501362]\n",
      "  [ 0.          0.          0.        ]\n",
      "  [-0.34954704  0.03145749  0.93639057]\n",
      "  ...\n",
      "  [-0.42968076 -0.79002345  0.43730697]\n",
      "  [ 0.4335211  -0.62005543  0.65390421]\n",
      "  [-0.7593119   0.64134557  0.11009676]]\n",
      "\n",
      " [[ 0.5975     -0.35296234 -0.72000787]\n",
      "  [ 0.34954704 -0.03145749 -0.93639057]\n",
      "  [ 0.          0.          0.        ]\n",
      "  ...\n",
      "  [ 0.22334282 -0.37165914 -0.90110347]\n",
      "  [ 0.67841608 -0.45921664 -0.57347336]\n",
      "  [ 0.1492696   0.1581692  -0.97606408]]\n",
      "\n",
      " ...\n",
      "\n",
      " [[ 0.59893932  0.21280671  0.77200065]\n",
      "  [ 0.42968076  0.79002345 -0.43730697]\n",
      "  [-0.22334282  0.37165914  0.90110347]\n",
      "  ...\n",
      "  [ 0.          0.          0.        ]\n",
      "  [ 0.84628112 -0.19837862  0.49442308]\n",
      "  [-0.11062349  0.95784948 -0.2651166 ]]\n",
      "\n",
      " [[-0.7593119   0.64134557  0.11009676]\n",
      "  [-0.4335211   0.62005543 -0.65390421]\n",
      "  [-0.67841608  0.45921664  0.57347336]\n",
      "  ...\n",
      "  [-0.84628112  0.19837862 -0.49442308]\n",
      "  [ 0.          0.          0.        ]\n",
      "  [-0.57752151  0.67834805 -0.45421673]]\n",
      "\n",
      " [[ 0.4335211  -0.62005543  0.65390421]\n",
      "  [ 0.7593119  -0.64134557 -0.11009676]\n",
      "  [-0.1492696  -0.1581692   0.97606408]\n",
      "  ...\n",
      "  [ 0.11062349 -0.95784948  0.2651166 ]\n",
      "  [ 0.57752151 -0.67834805  0.45421673]\n",
      "  [ 0.          0.          0.        ]]]\n"
     ]
    },
    {
     "name": "stderr",
     "output_type": "stream",
     "text": [
      "/tmp/ipykernel_1042806/1033212017.py:17: RuntimeWarning: invalid value encountered in divide\n",
      "  direction_cosines = differences / distances[:, :, None]\n"
     ]
    }
   ],
   "source": [
    "# Parse the CIF file\n",
    "parser = CifParser(\"data/4303837.cif\")\n",
    "\n",
    "# Get the first structure from the CIF file\n",
    "structure = parser.parse_structures()[0]\n",
    "\n",
    "# Extract data\n",
    "lattice = structure.lattice\n",
    "species = structure.species\n",
    "coordinates = structure.cart_coords\n",
    "distances = cdist(coordinates, coordinates)\n",
    "differences = coordinates[:, None, :] - coordinates[None, :, :]\n",
    "direction_cosines = differences / distances[:, :, None]\n",
    "direction_cosines = np.nan_to_num(direction_cosines)\n",
    "\n",
    "# Print some data\n",
    "print(\"Lattice parameters: \", lattice.abc)\n",
    "print(\"Lattice angles: \", lattice.angles)\n",
    "print(\"Species: \", species)\n",
    "print(\"Coordinates: \", direction_cosines)"
   ]
  },
  {
   "cell_type": "code",
   "execution_count": null,
   "id": "0d62e318",
   "metadata": {},
   "outputs": [],
   "source": []
  }
 ],
 "metadata": {
  "kernelspec": {
   "display_name": "test",
   "language": "python",
   "name": "test"
  },
  "language_info": {
   "codemirror_mode": {
    "name": "ipython",
    "version": 3
   },
   "file_extension": ".py",
   "mimetype": "text/x-python",
   "name": "python",
   "nbconvert_exporter": "python",
   "pygments_lexer": "ipython3",
   "version": "3.11.7"
  }
 },
 "nbformat": 4,
 "nbformat_minor": 5
}
